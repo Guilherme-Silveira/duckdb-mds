{
 "cells": [
  {
   "cell_type": "code",
   "execution_count": 1,
   "id": "6f17ef2d-0fb6-4466-b120-8bf49e8ada0d",
   "metadata": {
    "tags": []
   },
   "outputs": [],
   "source": [
    "import os\n",
    "\n",
    "os.environ['PYICEBERG_CATALOG__DEFAULT__URI'] = 'thrift://metastore:9083'\n",
    "os.environ['PYICEBERG_CATALOG__DEFAULT__S3.ENDPOINT'] = 'http://minio:9000'\n",
    "os.environ['PYICEBERG_CATALOG__DEFAULT__S3.ACCESS-KEY-ID'] = 'minio'\n",
    "os.environ['PYICEBERG_CATALOG__DEFAULT__S3.SECRET-ACCESS-KEY'] = 'minio123'"
   ]
  },
  {
   "cell_type": "code",
   "execution_count": 2,
   "id": "8cf81da4-252e-4b74-8ac5-130817cedb79",
   "metadata": {
    "tags": []
   },
   "outputs": [],
   "source": [
    "from pyiceberg.catalog import load_catalog\n",
    "\n",
    "catalog = load_catalog('default')"
   ]
  },
  {
   "cell_type": "code",
   "execution_count": null,
   "id": "54e6712f-317d-4fa1-ba19-abb3025b9808",
   "metadata": {
    "tags": []
   },
   "outputs": [],
   "source": [
    "table = catalog.load_table('youtube_service.final_analytics')"
   ]
  },
  {
   "cell_type": "code",
   "execution_count": null,
   "id": "e8cceca9-5b60-4d17-94e9-efa4b755c30f",
   "metadata": {
    "tags": []
   },
   "outputs": [],
   "source": [
    "table.history()"
   ]
  },
  {
   "cell_type": "code",
   "execution_count": null,
   "id": "9569eac8-d2bd-4be6-bbc9-ae438dea443b",
   "metadata": {
    "tags": []
   },
   "outputs": [],
   "source": [
    "con = table.scan(snapshot_id=4241481136605396114).to_duckdb(table_name='final_analytics')"
   ]
  },
  {
   "cell_type": "code",
   "execution_count": null,
   "id": "c9ae1993-f68b-4902-a16c-cac31d9fe7e8",
   "metadata": {
    "tags": []
   },
   "outputs": [],
   "source": [
    "con.execute('''\n",
    "  SELECT * FROM final_analytics LIMIT 50\n",
    "''').df()"
   ]
  }
 ],
 "metadata": {
  "kernelspec": {
   "display_name": "Python 3 (ipykernel)",
   "language": "python",
   "name": "python3"
  },
  "language_info": {
   "codemirror_mode": {
    "name": "ipython",
    "version": 3
   },
   "file_extension": ".py",
   "mimetype": "text/x-python",
   "name": "python",
   "nbconvert_exporter": "python",
   "pygments_lexer": "ipython3",
   "version": "3.9.2"
  }
 },
 "nbformat": 4,
 "nbformat_minor": 5
}
